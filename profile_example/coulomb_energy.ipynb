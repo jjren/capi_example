{
 "metadata": {
  "name": ""
 },
 "nbformat": 3,
 "nbformat_minor": 0,
 "worksheets": [
  {
   "cells": [
    {
     "cell_type": "markdown",
     "metadata": {},
     "source": [
      "Examples of using line_profiler and memory_profiler in ipython notebook\n",
      "\n",
      "#time, timeit"
     ]
    },
    {
     "cell_type": "code",
     "collapsed": false,
     "input": [
      "import coulomb_o0\n",
      "c = numpy.random.random((100,3))\n",
      "z = numpy.random.random(100)\n",
      "%time print(coulomb_o0.energy(c, z))"
     ],
     "language": "python",
     "metadata": {},
     "outputs": []
    },
    {
     "cell_type": "code",
     "collapsed": false,
     "input": [
      "import coulomb_o1\n",
      "%time print(coulomb_o1.energy(c, z))"
     ],
     "language": "python",
     "metadata": {},
     "outputs": []
    },
    {
     "cell_type": "markdown",
     "metadata": {},
     "source": [
      "#profile, cProfile\n",
      "\n",
      "call python built-in profiler at command line\n",
      "```shell\n",
      "python -m cProfile coulomb_o1.py\n",
      "```\n",
      "\n",
      "In ipython, the built-in profiler can be called with %prun"
     ]
    },
    {
     "cell_type": "code",
     "collapsed": false,
     "input": [
      "%prun print(coulomb_o1.energy(c, z))"
     ],
     "language": "python",
     "metadata": {},
     "outputs": []
    },
    {
     "cell_type": "markdown",
     "metadata": {},
     "source": [
      "#line_profiler\n",
      "\n",
      "To use line_profiler at command line, one need decorate the targe function with @profile\n",
      "```python\n",
      "@profile\n",
      "def energy(coord, charge):\n",
      "    ...\n",
      "```\n",
      "Then in command line\n",
      "```shell\n",
      "kernprof.py -l -v coulomb_o1.py\n",
      "```\n",
      "\n",
      "In ipython, line_profiler can be called with magic %load_ext %lprun"
     ]
    },
    {
     "cell_type": "code",
     "collapsed": false,
     "input": [
      "c = numpy.random.random((1000,3))\n",
      "z = numpy.random.random(1000)"
     ],
     "language": "python",
     "metadata": {},
     "outputs": []
    },
    {
     "cell_type": "code",
     "collapsed": false,
     "input": [
      "%load_ext line_profiler\n",
      "%lprun -f coulomb_o1.energy coulomb_o1.energy(c, z)"
     ],
     "language": "python",
     "metadata": {},
     "outputs": []
    },
    {
     "cell_type": "markdown",
     "metadata": {},
     "source": [
      "#memory_profiler\n",
      "To use memory_profiler at command line, decorator @profile should be inserted to the target function\n",
      "```python\n",
      "@profile\n",
      "def energy(coord, charge):\n",
      "    ...\n",
      "```\n",
      "Then in command line, run\n",
      "```shell\n",
      "python -m memory_profiler coulomb_o1.py\n",
      "```\n",
      "\n",
      "In ipython, load and run memory_profiler with %load_ext and %mprun"
     ]
    },
    {
     "cell_type": "code",
     "collapsed": false,
     "input": [
      "%load_ext memory_profiler\n",
      "%mprun -f coulomb_o1.energy coulomb_o1.energy(c, z)"
     ],
     "language": "python",
     "metadata": {},
     "outputs": []
    },
    {
     "cell_type": "code",
     "collapsed": true,
     "input": [
      "import coulomb_o2\n",
      "%lprun -f coulomb_o2.energy coulomb_o2.energy(c, z)"
     ],
     "language": "python",
     "metadata": {},
     "outputs": []
    }
   ],
   "metadata": {}
  }
 ]
}